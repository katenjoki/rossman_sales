{
 "cells": [
  {
   "cell_type": "code",
   "execution_count": 1,
   "id": "25f76c66",
   "metadata": {},
   "outputs": [],
   "source": [
    "import warnings\n",
    "warnings.filterwarnings(\"ignore\")\n",
    "\n",
    "# loading packages\n",
    "# basic + dates \n",
    "import numpy as np\n",
    "from numpy import mean\n",
    "from numpy import std\n",
    "from numpy import absolute\n",
    "import pandas as pd\n",
    "from pandas import datetime\n",
    "\n",
    "# data visualization\n",
    "import matplotlib.pyplot as plt\n",
    "import seaborn as sns # advanced visualisations\n",
    "%matplotlib inline\n",
    "\n",
    "# time series analysis\n",
    "from statsmodels.tsa.seasonal import seasonal_decompose\n",
    "from statsmodels.graphics.tsaplots import plot_acf, plot_pacf\n",
    "\n",
    "import os\n",
    "import logging\n",
    "import math\n",
    "import re\n",
    "import time\n",
    "import random\n",
    "import os\n",
    "import pickle\n",
    "import joblib\n",
    "\n",
    "import category_encoders as ce\n",
    "from sklearn.model_selection import cross_val_score\n",
    "from sklearn.model_selection import KFold\n",
    "from sklearn.compose import ColumnTransformer\n",
    "\n",
    "from sklearn.preprocessing import OneHotEncoder, LabelEncoder, StandardScaler\n",
    "from sklearn.experimental import enable_iterative_imputer\n",
    "from sklearn.impute import SimpleImputer, IterativeImputer\n",
    "\n",
    "from sklearn.pipeline import FeatureUnion, Pipeline\n",
    "from sklearn.compose import ColumnTransformer\n",
    "\n",
    "from sklearn.model_selection import RandomizedSearchCV, TimeSeriesSplit\n",
    "from sklearn.linear_model import SGDRegressor\n",
    "from sklearn.tree import DecisionTreeRegressor\n",
    "from sklearn.ensemble import RandomForestRegressor\n",
    "from sklearn.metrics import make_scorer"
   ]
  },
  {
   "cell_type": "code",
   "execution_count": 2,
   "id": "346b4b8d",
   "metadata": {},
   "outputs": [],
   "source": [
    "def log (path,file):\n",
    "    '''Creating a log file to record the project's logs'''\n",
    "    #check if file exists\n",
    "    log_file= os.path.join(path,file)\n",
    "\n",
    "    if not os.path.isfile(log_file):\n",
    "        open(log_file,\"w+\").close()\n",
    "\n",
    "    console_logging_format = \"%(levelname)s %(message)s\"\n",
    "    file_logging_format = \"%(levelname)s: %(asctime)s: %(message)s\"\n",
    "\n",
    "    #configure logger\n",
    "    logging.basicConfig(level=logging.INFO,format=console_logging_format)\n",
    "    logger=logging.getLogger()\n",
    "\n",
    "    #file handler for output file\n",
    "    handler=logging.FileHandler(log_file)\n",
    "\n",
    "    #set logging level for file\n",
    "    handler.setLevel(logging.INFO)\n",
    "\n",
    "    #logging format\n",
    "    formatter=logging.Formatter(file_logging_format)\n",
    "    handler.setFormatter(formatter)\n",
    "    \n",
    "    #add handlers to logger\n",
    "    logger.addHandler(handler)\n",
    "\n",
    "    return logger"
   ]
  },
  {
   "cell_type": "code",
   "execution_count": 3,
   "id": "5ae8f849",
   "metadata": {},
   "outputs": [],
   "source": [
    "#set logger file\n",
    "#from logs import log\n",
    "logger=log(path=\"../logs/\",file=\"rossman_sales.logs\")\n",
    "\n",
    "#Loading datasets\n",
    "train=pd.read_csv(\"../data/train.csv\",low_memory=False)\n",
    "test=pd.read_csv(\"../data/test.csv\",low_memory=False)\n",
    "store=pd.read_csv(\"../data/store.csv\",low_memory=False)"
   ]
  },
  {
   "cell_type": "markdown",
   "id": "191f77a2",
   "metadata": {},
   "source": [
    "<h2>Data Cleaning and Wrangling</h2>"
   ]
  },
  {
   "cell_type": "code",
   "execution_count": 4,
   "id": "f9d36bec",
   "metadata": {},
   "outputs": [],
   "source": [
    "class information:\n",
    "    def __init__(self):\n",
    "        print('Data information object created')\n",
    "    def get_shape(self,data):\n",
    "        data_shape=data.shape\n",
    "        print('Dataset shape:',data_shape)\n",
    "    def get_null_values(self,data):\n",
    "        missing=data.isnull().sum()\n",
    "        print('\\n Null values per column:\\n',missing)"
   ]
  },
  {
   "cell_type": "code",
   "execution_count": 5,
   "id": "dacf5e09",
   "metadata": {},
   "outputs": [],
   "source": [
    "class preprocess():\n",
    "    def __init__(self):\n",
    "        print(\"Preprocessing the train data...\")\n",
    "    \n",
    "    def get_features(self,train):\n",
    "        train['Sales_per_Customer']=train['Sales']/train['Customers']\n",
    "        \n",
    "        train['Date']=pd.to_datetime(train['Date'])\n",
    "        train.set_index('Date',inplace=True)\n",
    "        train['Day']=train.index.day\n",
    "        train['Month']=train.index.month\n",
    "        train['Year']=train.index.year\n",
    "        train['Weekday']=np.where(train['DayOfWeek']<6,1,0)\n",
    "        return train"
   ]
  },
  {
   "cell_type": "code",
   "execution_count": 6,
   "id": "00e2e556",
   "metadata": {},
   "outputs": [
    {
     "name": "stderr",
     "output_type": "stream",
     "text": [
      "INFO NumExpr defaulting to 4 threads.\n"
     ]
    }
   ],
   "source": [
    "train = train.loc[~(train['Sales'] == 0)]"
   ]
  },
  {
   "cell_type": "code",
   "execution_count": 7,
   "id": "62a0d404",
   "metadata": {},
   "outputs": [],
   "source": [
    "class clean_store:\n",
    "    def __init__(self):\n",
    "        print('Cleaning Store Dataset')\n",
    "    def fill_null(self,store):\n",
    "        # fill NaN with a median value for competition distance, fill the other NaN valuescolumns , with 0\n",
    "        store['CompetitionDistance'].fillna(store['CompetitionDistance'].median(), inplace = True)\n",
    "        store.fillna(0,inplace=True)\n",
    "        print('Are there any null values? \\n',store.isnull().any())"
   ]
  },
  {
   "cell_type": "code",
   "execution_count": 8,
   "id": "31156d49",
   "metadata": {},
   "outputs": [],
   "source": [
    "class clean_test():\n",
    "    def __init__(self):\n",
    "        print(\"Cleaning test dataframe\")\n",
    "    def is_null(self,test):\n",
    "        null=test.isnull().sum()\n",
    "        print(\"List of null values per column:\\n\",null)\n",
    "        \n",
    "        test.dropna(subset=['Open'],inplace=True)\n",
    "        print('\\n Any more null values?',test['Open'].isnull().any())"
   ]
  },
  {
   "cell_type": "markdown",
   "id": "d0934f06",
   "metadata": {},
   "source": [
    "<h3>Store Dataset</h3>"
   ]
  },
  {
   "cell_type": "code",
   "execution_count": 9,
   "id": "e5ff6a4e",
   "metadata": {},
   "outputs": [
    {
     "name": "stdout",
     "output_type": "stream",
     "text": [
      "Data information object created\n",
      "Dataset shape: (1115, 10)\n",
      "\n",
      " Null values per column:\n",
      " Store                          0\n",
      "StoreType                      0\n",
      "Assortment                     0\n",
      "CompetitionDistance            3\n",
      "CompetitionOpenSinceMonth    354\n",
      "CompetitionOpenSinceYear     354\n",
      "Promo2                         0\n",
      "Promo2SinceWeek              544\n",
      "Promo2SinceYear              544\n",
      "PromoInterval                544\n",
      "dtype: int64\n"
     ]
    }
   ],
   "source": [
    "inf=information()\n",
    "inf.get_shape(store)\n",
    "inf.get_null_values(store)"
   ]
  },
  {
   "cell_type": "markdown",
   "id": "451ee9b0",
   "metadata": {},
   "source": [
    "**The stores with no promo information would probably mean they didn't participate in the promos, we replace with 0**\n",
    "**For Competition distance, we replace with the median**"
   ]
  },
  {
   "cell_type": "code",
   "execution_count": 10,
   "id": "ea76ae6b",
   "metadata": {
    "scrolled": true
   },
   "outputs": [
    {
     "name": "stdout",
     "output_type": "stream",
     "text": [
      "Cleaning Store Dataset\n",
      "Are there any null values? \n",
      " Store                        False\n",
      "StoreType                    False\n",
      "Assortment                   False\n",
      "CompetitionDistance          False\n",
      "CompetitionOpenSinceMonth    False\n",
      "CompetitionOpenSinceYear     False\n",
      "Promo2                       False\n",
      "Promo2SinceWeek              False\n",
      "Promo2SinceYear              False\n",
      "PromoInterval                False\n",
      "dtype: bool\n"
     ]
    }
   ],
   "source": [
    "clean=clean_store()\n",
    "clean.fill_null(store)"
   ]
  },
  {
   "cell_type": "code",
   "execution_count": 11,
   "id": "08998286",
   "metadata": {},
   "outputs": [
    {
     "data": {
      "text/html": [
       "<div>\n",
       "<style scoped>\n",
       "    .dataframe tbody tr th:only-of-type {\n",
       "        vertical-align: middle;\n",
       "    }\n",
       "\n",
       "    .dataframe tbody tr th {\n",
       "        vertical-align: top;\n",
       "    }\n",
       "\n",
       "    .dataframe thead th {\n",
       "        text-align: right;\n",
       "    }\n",
       "</style>\n",
       "<table border=\"1\" class=\"dataframe\">\n",
       "  <thead>\n",
       "    <tr style=\"text-align: right;\">\n",
       "      <th></th>\n",
       "      <th>Store</th>\n",
       "      <th>StoreType</th>\n",
       "      <th>Assortment</th>\n",
       "      <th>CompetitionDistance</th>\n",
       "      <th>CompetitionOpenSinceMonth</th>\n",
       "      <th>CompetitionOpenSinceYear</th>\n",
       "      <th>Promo2</th>\n",
       "      <th>Promo2SinceWeek</th>\n",
       "      <th>Promo2SinceYear</th>\n",
       "      <th>PromoInterval</th>\n",
       "    </tr>\n",
       "  </thead>\n",
       "  <tbody>\n",
       "    <tr>\n",
       "      <th>1023</th>\n",
       "      <td>1024</td>\n",
       "      <td>c</td>\n",
       "      <td>c</td>\n",
       "      <td>1990.0</td>\n",
       "      <td>1.0</td>\n",
       "      <td>2012.0</td>\n",
       "      <td>0</td>\n",
       "      <td>0.0</td>\n",
       "      <td>0.0</td>\n",
       "      <td>0</td>\n",
       "    </tr>\n",
       "    <tr>\n",
       "      <th>602</th>\n",
       "      <td>603</td>\n",
       "      <td>a</td>\n",
       "      <td>a</td>\n",
       "      <td>340.0</td>\n",
       "      <td>4.0</td>\n",
       "      <td>2007.0</td>\n",
       "      <td>1</td>\n",
       "      <td>13.0</td>\n",
       "      <td>2010.0</td>\n",
       "      <td>Jan,Apr,Jul,Oct</td>\n",
       "    </tr>\n",
       "    <tr>\n",
       "      <th>693</th>\n",
       "      <td>694</td>\n",
       "      <td>a</td>\n",
       "      <td>c</td>\n",
       "      <td>460.0</td>\n",
       "      <td>11.0</td>\n",
       "      <td>2012.0</td>\n",
       "      <td>1</td>\n",
       "      <td>40.0</td>\n",
       "      <td>2014.0</td>\n",
       "      <td>Jan,Apr,Jul,Oct</td>\n",
       "    </tr>\n",
       "    <tr>\n",
       "      <th>977</th>\n",
       "      <td>978</td>\n",
       "      <td>c</td>\n",
       "      <td>c</td>\n",
       "      <td>3890.0</td>\n",
       "      <td>0.0</td>\n",
       "      <td>0.0</td>\n",
       "      <td>0</td>\n",
       "      <td>0.0</td>\n",
       "      <td>0.0</td>\n",
       "      <td>0</td>\n",
       "    </tr>\n",
       "    <tr>\n",
       "      <th>576</th>\n",
       "      <td>577</td>\n",
       "      <td>a</td>\n",
       "      <td>c</td>\n",
       "      <td>2270.0</td>\n",
       "      <td>0.0</td>\n",
       "      <td>0.0</td>\n",
       "      <td>1</td>\n",
       "      <td>35.0</td>\n",
       "      <td>2012.0</td>\n",
       "      <td>Mar,Jun,Sept,Dec</td>\n",
       "    </tr>\n",
       "  </tbody>\n",
       "</table>\n",
       "</div>"
      ],
      "text/plain": [
       "      Store StoreType Assortment  CompetitionDistance  \\\n",
       "1023   1024         c          c               1990.0   \n",
       "602     603         a          a                340.0   \n",
       "693     694         a          c                460.0   \n",
       "977     978         c          c               3890.0   \n",
       "576     577         a          c               2270.0   \n",
       "\n",
       "      CompetitionOpenSinceMonth  CompetitionOpenSinceYear  Promo2  \\\n",
       "1023                        1.0                    2012.0       0   \n",
       "602                         4.0                    2007.0       1   \n",
       "693                        11.0                    2012.0       1   \n",
       "977                         0.0                       0.0       0   \n",
       "576                         0.0                       0.0       1   \n",
       "\n",
       "      Promo2SinceWeek  Promo2SinceYear     PromoInterval  \n",
       "1023              0.0              0.0                 0  \n",
       "602              13.0           2010.0   Jan,Apr,Jul,Oct  \n",
       "693              40.0           2014.0   Jan,Apr,Jul,Oct  \n",
       "977               0.0              0.0                 0  \n",
       "576              35.0           2012.0  Mar,Jun,Sept,Dec  "
      ]
     },
     "execution_count": 11,
     "metadata": {},
     "output_type": "execute_result"
    }
   ],
   "source": [
    "store.sample(5)"
   ]
  },
  {
   "cell_type": "markdown",
   "id": "ae431cfe",
   "metadata": {},
   "source": [
    "<h3>Train dataset</h3>"
   ]
  },
  {
   "cell_type": "code",
   "execution_count": 12,
   "id": "34d9cbfb",
   "metadata": {},
   "outputs": [
    {
     "name": "stdout",
     "output_type": "stream",
     "text": [
      "Data information object created\n",
      "\n",
      " Null values per column:\n",
      " Store            0\n",
      "DayOfWeek        0\n",
      "Date             0\n",
      "Sales            0\n",
      "Customers        0\n",
      "Open             0\n",
      "Promo            0\n",
      "StateHoliday     0\n",
      "SchoolHoliday    0\n",
      "dtype: int64\n"
     ]
    }
   ],
   "source": [
    "inf=information()\n",
    "inf.get_null_values(train)"
   ]
  },
  {
   "cell_type": "code",
   "execution_count": null,
   "id": "246fe21f",
   "metadata": {},
   "outputs": [
    {
     "name": "stdout",
     "output_type": "stream",
     "text": [
      "Preprocessing the train data...\n"
     ]
    }
   ],
   "source": [
    "p1=preprocess()\n",
    "p1.get_features(train)"
   ]
  },
  {
   "cell_type": "markdown",
   "id": "c6eed1df",
   "metadata": {},
   "source": [
    "<h3>Test dataset</h3>"
   ]
  },
  {
   "cell_type": "code",
   "execution_count": null,
   "id": "fd64108c",
   "metadata": {},
   "outputs": [],
   "source": [
    "inf=information()\n",
    "inf.get_null_values(test)"
   ]
  },
  {
   "cell_type": "code",
   "execution_count": null,
   "id": "0b56db20",
   "metadata": {},
   "outputs": [],
   "source": [
    "clean=clean_test()\n",
    "clean.is_null(test)"
   ]
  },
  {
   "cell_type": "markdown",
   "id": "a804db4d",
   "metadata": {},
   "source": [
    "<h2>Exploratory Data Analysis</h2>"
   ]
  },
  {
   "cell_type": "code",
   "execution_count": null,
   "id": "b943e8fb",
   "metadata": {},
   "outputs": [],
   "source": [
    "#pd.plotting.register_matplotlib_converters()\n",
    "\n",
    "# preparation: input should be float type\n"
   ]
  },
  {
   "cell_type": "code",
   "execution_count": null,
   "id": "67d6b8c2",
   "metadata": {},
   "outputs": [],
   "source": [
    "class seasonality():\n",
    "    def __init__(self):\n",
    "        print('Checking for seasonality in different store types...')\n",
    "    def store_seasonality(self,train):\n",
    "        pd.plotting.register_matplotlib_converters()\n",
    "\n",
    "        # preparation: input should be float type\n",
    "        sales = train[['Sales']]\n",
    "        plt.figure(figsize=(12,6))\n",
    "        sales.resample('W').sum().plot(color = 'Orange')\n",
    "        plt.show()\n",
    "        \n",
    "    def christmas_seasonality(self,train):\n",
    "        sales = train[['Sales']]\n",
    "        holidays=sales.loc['2014-01-03':'2013-12-01'].sort_index()\n",
    "        holidays.resample('D').sum().plot(color = 'Green')\n",
    "        plt.show()"
   ]
  },
  {
   "cell_type": "code",
   "execution_count": null,
   "id": "134a03f1",
   "metadata": {},
   "outputs": [],
   "source": [
    "#Factor plot\n",
    "def plot_factor(data,x,y,col,hue):\n",
    "    sns.factorplot(data=data,x=x,y=y,col=col,hue=hue)\n",
    "    plt.show()\n",
    "#Bar plot    \n",
    "def plot_bar(data,x,y1,y2):\n",
    "    plt.figure(figsize=(12,6))\n",
    "    plt.subplot(1,2,1)\n",
    "    sns.barplot(data = data, x = x, y = y1,palette='RdYlBu') \n",
    "    plt.title(f'{x} VS {y1}')\n",
    "    plt.subplot(1,2,2)\n",
    "    sns.barplot(data = data, x = x, y = y2,palette='RdYlGn')\n",
    "    plt.title(f'{x} VS {y2}')\n",
    "    plt.show()\n",
    "#Histogram\n",
    "def plot_hist(data,col1,col2):\n",
    "    sns.histplot(data=data,x=col1,y=col2,bins=30)\n",
    "    plt.title(f'Distribution of {col1} by {col2}')\n",
    "    plt.show()"
   ]
  },
  {
   "cell_type": "code",
   "execution_count": null,
   "id": "6f9fc240",
   "metadata": {},
   "outputs": [],
   "source": [
    "#train_store.groupby(['StoreType','Store'])['Sales'].sum().groupby(level=0,group_keys=False).head(5)"
   ]
  },
  {
   "cell_type": "code",
   "execution_count": null,
   "id": "019f490f",
   "metadata": {},
   "outputs": [],
   "source": [
    "season=seasonality()\n",
    "season.store_seasonality(train)"
   ]
  },
  {
   "cell_type": "markdown",
   "id": "b25b402c",
   "metadata": {},
   "source": [
    "The plot shows that all store types experience a significant increase in sales around Dec25th\n",
    "To see how buyers behave before,during and after Christmas, we plot charts for December 2013 to understand buyer behaviour"
   ]
  },
  {
   "cell_type": "code",
   "execution_count": null,
   "id": "d291d0d4",
   "metadata": {},
   "outputs": [],
   "source": [
    "season.christmas_seasonality(train)"
   ]
  },
  {
   "cell_type": "markdown",
   "id": "211618b9",
   "metadata": {},
   "source": [
    "* Because most stores close on Christmas, a few days before the holiday, particularly from 16th December onwards, sales significantly increase and start dropping from 23rd "
   ]
  },
  {
   "cell_type": "markdown",
   "id": "3594d40a",
   "metadata": {},
   "source": [
    "**Correlation between Sales and Customers**"
   ]
  },
  {
   "cell_type": "markdown",
   "id": "46fb353c",
   "metadata": {},
   "source": [
    "We merge Store and Train into one to have all the information in one dataset"
   ]
  },
  {
   "cell_type": "code",
   "execution_count": null,
   "id": "0d8aea83",
   "metadata": {},
   "outputs": [],
   "source": [
    "train_store = pd.merge(train, store, how = 'inner', on = 'Store')\n",
    "train_store.groupby(['StoreType'])['Store'].nunique()"
   ]
  },
  {
   "cell_type": "code",
   "execution_count": null,
   "id": "6bf9b676",
   "metadata": {
    "scrolled": true
   },
   "outputs": [],
   "source": [
    "corr=train_store[['Sales','Customers']].corr()\n",
    "sns.heatmap(corr, cmap=\"PuBu\")"
   ]
  },
  {
   "cell_type": "markdown",
   "id": "8f31e34c",
   "metadata": {},
   "source": [
    "Customers and Sales have a correlation of 0.9, which indicates a strong positive relationship, meaning they both move in the same direction"
   ]
  },
  {
   "cell_type": "markdown",
   "id": "4f2068a7",
   "metadata": {},
   "source": [
    "**How does promo affect sales? Are the promos attracting more customers?**"
   ]
  },
  {
   "cell_type": "code",
   "execution_count": null,
   "id": "6c8a5265",
   "metadata": {},
   "outputs": [],
   "source": [
    "plot_factor(train_store,'Month',\"Sales\",'Promo','StoreType') "
   ]
  },
  {
   "cell_type": "code",
   "execution_count": null,
   "id": "066f644a",
   "metadata": {},
   "outputs": [],
   "source": [
    "plot_factor(train_store,'Month',\"Customers\",'Promo','StoreType') "
   ]
  },
  {
   "cell_type": "markdown",
   "id": "31acd1b9",
   "metadata": {},
   "source": [
    "* Store Type b has the highest sales and customers per month overall, with and without the promo\n",
    "* However, we can see that promotions lead to higher sales and customers for all store types"
   ]
  },
  {
   "cell_type": "code",
   "execution_count": null,
   "id": "a5e452e8",
   "metadata": {},
   "outputs": [],
   "source": [
    "plot_factor(train_store,'Month','Sales_per_Customer','Promo','StoreType')"
   ]
  },
  {
   "cell_type": "markdown",
   "id": "b0c3657c",
   "metadata": {},
   "source": [
    "* StoreType b  has the lowest sales_per_customer, even though it has the highest sales and customers in general\n",
    "* This means that the store gets lots of customers who by many low-value goods."
   ]
  },
  {
   "cell_type": "markdown",
   "id": "0338b62e",
   "metadata": {},
   "source": [
    "**Could the promos be deployed in more effective ways? Which stores should promos be deployed in?**"
   ]
  },
  {
   "cell_type": "code",
   "execution_count": null,
   "id": "57e6bc00",
   "metadata": {
    "scrolled": true
   },
   "outputs": [],
   "source": [
    "plot_factor(train_store,'DayOfWeek',\"Sales\",'Promo','StoreType') "
   ]
  },
  {
   "cell_type": "markdown",
   "id": "7bd6e72a",
   "metadata": {},
   "source": [
    "* Store Type a has the most sales on Sundays,\n",
    "* Store Types b,c,d should try deploying promos on weekends to bump their sales"
   ]
  },
  {
   "cell_type": "markdown",
   "id": "43387101",
   "metadata": {},
   "source": [
    "**Which stores are opened on all weekdays? How does that affect their sales on weekends?**"
   ]
  },
  {
   "cell_type": "code",
   "execution_count": null,
   "id": "6d4c9f1d",
   "metadata": {},
   "outputs": [],
   "source": [
    "plot_factor(train_store,'DayOfWeek',\"Sales\",'Open','StoreType') "
   ]
  },
  {
   "cell_type": "markdown",
   "id": "16e84ece",
   "metadata": {},
   "source": [
    "All the store types open daily, store type b seems to have the highest sales on Sundays, and lowest on Saturdays"
   ]
  },
  {
   "cell_type": "code",
   "execution_count": null,
   "id": "7e5f0d35",
   "metadata": {
    "scrolled": true
   },
   "outputs": [],
   "source": [
    "train_store.groupby('StoreType')['Customers','Sales'].sum()"
   ]
  },
  {
   "cell_type": "markdown",
   "id": "f84bad80",
   "metadata": {},
   "source": [
    "Store Type a has the highest amount of customers and Sales, followed by Store Type d"
   ]
  },
  {
   "cell_type": "markdown",
   "id": "f557c9d0",
   "metadata": {},
   "source": [
    "**Check how the assortment type affects sales**"
   ]
  },
  {
   "cell_type": "code",
   "execution_count": null,
   "id": "48f33c29",
   "metadata": {},
   "outputs": [],
   "source": [
    "plot_factor(train_store,'Month',\"Sales\",'Promo','Assortment') "
   ]
  },
  {
   "cell_type": "code",
   "execution_count": null,
   "id": "bdfe38b8",
   "metadata": {},
   "outputs": [],
   "source": [
    "plot_factor(train_store,'Month',\"Customers\",'Promo','Assortment') "
   ]
  },
  {
   "cell_type": "markdown",
   "id": "aee36fd5",
   "metadata": {},
   "source": [
    "Assortment a has the highest sales and customers per month.\n",
    "Promotions lead to higher sales and customers for all assortment types"
   ]
  },
  {
   "cell_type": "code",
   "execution_count": null,
   "id": "68435088",
   "metadata": {},
   "outputs": [],
   "source": [
    "plot_factor(train_store,'DayOfWeek',\"Sales\",'Promo','Assortment') "
   ]
  },
  {
   "cell_type": "markdown",
   "id": "19b7cd44",
   "metadata": {},
   "source": [
    "* Assortment A has their highest sales on Sundays, while b and c have no sales on Sundays\n",
    "* Promotions don't happen on weekends"
   ]
  },
  {
   "cell_type": "code",
   "execution_count": null,
   "id": "544e3f03",
   "metadata": {},
   "outputs": [],
   "source": [
    "plot_bar(train_store,'DayOfWeek','Sales','Customers')"
   ]
  },
  {
   "cell_type": "markdown",
   "id": "ef9b4080",
   "metadata": {},
   "source": [
    "* Mondays and Sundays have the most sales and customers\n",
    "* Sundays have the most customers"
   ]
  },
  {
   "cell_type": "markdown",
   "id": "3e57a727",
   "metadata": {},
   "source": [
    "**How does the distance to the next competitor affect sales?**"
   ]
  },
  {
   "cell_type": "code",
   "execution_count": null,
   "id": "8f5e4b39",
   "metadata": {},
   "outputs": [],
   "source": [
    "pd.set_option('display.float_format',str)\n",
    "train_store['Decile_rank'] = pd.qcut(train_store['CompetitionDistance'], 5, labels = False) \n",
    "train_store.groupby('Decile_rank').agg({'Decile_rank':'count','Sales':'sum'})"
   ]
  },
  {
   "cell_type": "code",
   "execution_count": null,
   "id": "8341c2f6",
   "metadata": {},
   "outputs": [],
   "source": [
    "#CompetitionDistance\n",
    "fig = plt.figure(figsize = (8,6))\n",
    "sns.distplot(train_store.CompetitionDistance, color = 'purple')"
   ]
  },
  {
   "cell_type": "markdown",
   "id": "4e64e9a6",
   "metadata": {},
   "source": [
    "* The total number of sales across the decile classes is somewhat balanced, apart from the first class which has a bit higher values compared to the rest. \n",
    "* The stores could be located in densely populated areas hence, distance to nearest competitor has a small influence\n",
    "* Most stores are located around 5km from competitors"
   ]
  },
  {
   "cell_type": "markdown",
   "id": "25c7d835",
   "metadata": {},
   "source": [
    "<h3>Feature Engineering</h3>"
   ]
  },
  {
   "cell_type": "code",
   "execution_count": null,
   "id": "6695d36c",
   "metadata": {},
   "outputs": [],
   "source": [
    "train=pd.read_csv(\"../data/train.csv\")\n",
    "test=pd.read_csv(\"../data/test.csv\")\n",
    "train_store=pd.merge(train,store,how='left',on='Store')\n",
    "train_store.sample()"
   ]
  },
  {
   "cell_type": "markdown",
   "id": "c3d7d74a",
   "metadata": {},
   "source": [
    "Date Features"
   ]
  },
  {
   "cell_type": "code",
   "execution_count": null,
   "id": "81d7cd02",
   "metadata": {},
   "outputs": [],
   "source": [
    "train_store['Date']=pd.to_datetime(train_store['Date'])\n",
    "train_store=train_store.sort_values('Date')\n",
    "train_store['Day']=train_store['Date'].dt.day\n",
    "train_store['Month']=train_store['Date'].dt.month\n",
    "train_store['Year']=train_store['Date'].dt.year\n",
    "train_store['WeekOfYear'] = train_store['Date'].dt.weekofyear"
   ]
  },
  {
   "cell_type": "code",
   "execution_count": null,
   "id": "a7cc985d",
   "metadata": {},
   "outputs": [],
   "source": [
    "train_store['PromoInterval'].unique()"
   ]
  },
  {
   "cell_type": "markdown",
   "id": "7454dba3",
   "metadata": {},
   "source": [
    "Promo-interval features"
   ]
  },
  {
   "cell_type": "markdown",
   "id": "1234a240",
   "metadata": {},
   "source": [
    "promo = train_store['PromoInterval'].str.split(',').apply(pd.Series, 1)\n",
    "promo.columns = ['PromoInterval0', 'PromoInterval1', 'PromoInterval2', 'PromoInterval3']\n",
    "train_store = train_store.join(promo)\n",
    "month_to_num_dict = {\n",
    "                    'Jan' : 1,\n",
    "                    'Feb' : 2,\n",
    "                    'Mar' : 3,\n",
    "                    'Apr' : 4,\n",
    "                    'May' : 5,\n",
    "                    'Jun' : 6,\n",
    "                    'Jul' : 7,\n",
    "                    'Aug' : 8,\n",
    "                    'Sept' : 9, \n",
    "                    'Oct' : 10,\n",
    "                    'Nov' : 11,\n",
    "                    'Dec' : 12,\n",
    "                    'nan' : 0\n",
    "                    }\n",
    "\n",
    "\n",
    "train_store['PromoInterval0'] = train_store['PromoInterval0'].map(month_to_num_dict)\n",
    "train_store['PromoInterval1'] = train_store['PromoInterval1'].map(month_to_num_dict)\n",
    "train_store['PromoInterval2'] = train_store['PromoInterval2'].map(month_to_num_dict)\n",
    "train_store['PromoInterval3'] = train_store['PromoInterval3'].map(month_to_num_dict)\n",
    "\n",
    "#Removing PromoInterval feature as no further use now.\n",
    "del train_store['PromoInterval']"
   ]
  },
  {
   "cell_type": "markdown",
   "id": "c9f33abf",
   "metadata": {},
   "source": [
    "New features: Sales_per_day, Customers_per_day and Sales_per_customers_per_day"
   ]
  },
  {
   "cell_type": "markdown",
   "id": "c3d3b492",
   "metadata": {},
   "source": [
    "store_sales=train_store.groupby([train_store['Store']])['Sales'].sum()\n",
    "store_customers=train_store.groupby([train_store['Store']])['Customers'].sum()\n",
    "store_open=train_store.groupby([train_store['Store']])['Open'].count()\n",
    "\n",
    "store_sales_per_day=store_sales/store_open\n",
    "store_customers_per_day=store_customers/store_open\n",
    "store_sales_per_customer_per_day=store_sales_per_day/store_customers_per_day\n",
    "\n",
    "#Saving in a dict\n",
    "sales_per_day_dict = dict(store_sales_per_day)\n",
    "customers_per_day_dict = dict(store_customers_per_day)\n",
    "sales_per_customers_per_day_dict = dict(store_sales_per_customer_per_day)"
   ]
  },
  {
   "cell_type": "markdown",
   "id": "6f0609cc",
   "metadata": {},
   "source": [
    "train_store['SalesPerDay'] = train_store['Store'].map(sales_per_day_dict)\n",
    "train_store['Customers_per_day'] = train_store['Store'].map(customers_per_day_dict)\n",
    "train_store['Sales_Per_Customers_Per_Day'] = train_store['Store'].map(sales_per_customers_per_day_dict)\n",
    "\n",
    "del train_store['Customers']"
   ]
  },
  {
   "cell_type": "markdown",
   "id": "6d077f8c",
   "metadata": {},
   "source": [
    "<h3>Machine Learning </h2>"
   ]
  },
  {
   "cell_type": "code",
   "execution_count": null,
   "id": "29512084",
   "metadata": {},
   "outputs": [],
   "source": [
    "train_store.head()"
   ]
  },
  {
   "cell_type": "code",
   "execution_count": null,
   "id": "cfc07adf",
   "metadata": {},
   "outputs": [],
   "source": [
    "train_store.dropna(inplace=True)"
   ]
  },
  {
   "cell_type": "code",
   "execution_count": null,
   "id": "efddd262",
   "metadata": {},
   "outputs": [],
   "source": [
    "train_store['DayOfWeek']=train_store['DayOfWeek'].apply(str)\n",
    "train_store['Year']=train_store['Year'].apply(str)\n",
    "train_store['Promo']=train_store['Promo'].apply(str)\n",
    "train_store['Promo2']=train_store['Promo2'].apply(str)\n",
    "train_store['SchoolHoliday']=train_store['SchoolHoliday'].apply(str)\n",
    "train_store['StateHoliday']=train_store['StateHoliday'].apply(str)\n",
    "train_store['WeekOfYear']=train_store['WeekOfYear'].apply(str)"
   ]
  },
  {
   "cell_type": "code",
   "execution_count": null,
   "id": "30e51cd5",
   "metadata": {},
   "outputs": [],
   "source": [
    "train_store.info()"
   ]
  },
  {
   "cell_type": "code",
   "execution_count": null,
   "id": "0c30946b",
   "metadata": {},
   "outputs": [],
   "source": [
    "train_store.isnull().any()"
   ]
  },
  {
   "cell_type": "code",
   "execution_count": null,
   "id": "1d21b6c9",
   "metadata": {},
   "outputs": [],
   "source": [
    "#drop Date and Open columns\n",
    "#drop rows where Sales=0\n",
    "train_store = train_store.drop(['Date','Open','Customers'],axis=1)\n",
    "train_store = train_store.loc[~(train_store['Sales'] == 0)]"
   ]
  },
  {
   "cell_type": "code",
   "execution_count": null,
   "id": "6b30ffeb",
   "metadata": {},
   "outputs": [],
   "source": [
    "X=train_store.loc[:,train_store.columns != 'Sales']\n",
    "X = X.drop(['PromoInterval'],axis=1)\n",
    "y=train_store['Sales']"
   ]
  },
  {
   "cell_type": "code",
   "execution_count": null,
   "id": "be5feb8c",
   "metadata": {},
   "outputs": [],
   "source": [
    "train, test = train_test_split(train_store,test_size=0.2)\n",
    "train,val=train_test_split(train,test_size=0.2)"
   ]
  },
  {
   "cell_type": "code",
   "execution_count": null,
   "id": "55935ff7",
   "metadata": {},
   "outputs": [],
   "source": [
    "cat_cols = ['StateHoliday','SchoolHoliday','DayOfWeek','Promo','Promo2','Assortment','StoreType','Year','WeekOfYear']\n",
    "num_cols = [i for i in X.columns if i not in cat_cols]\n",
    "\n",
    "num_transformer = Pipeline(steps = [('imp', IterativeImputer(initial_strategy='median')),\n",
    "                                    ('scaler', StandardScaler())])\n",
    "\n",
    "cat_transformer = Pipeline(steps = [('imp', SimpleImputer(strategy='most_frequent')),\n",
    "                                    ('onehot', OneHotEncoder(handle_unknown='ignore'))])\n",
    "\n",
    "preprocessor = ColumnTransformer(transformers=[('cat',cat_transformer,cat_cols)])"
   ]
  },
  {
   "cell_type": "code",
   "execution_count": null,
   "id": "3a64874f",
   "metadata": {},
   "outputs": [],
   "source": [
    "preprocessor.fit(X)"
   ]
  },
  {
   "cell_type": "markdown",
   "id": "87201256",
   "metadata": {},
   "source": [
    "**Loss Function**"
   ]
  },
  {
   "cell_type": "markdown",
   "id": "0c71382b",
   "metadata": {},
   "source": [
    "from sklearn import preprocessing\n",
    "from sklearn.pipeline import Pipeline\n",
    "from sklearn.pipeline import make_pipeline\n",
    "from sklearn.compose import ColumnTransformer\n",
    "from sklearn.model_selection import train_test_split\n",
    "from sklearn import tree\n",
    "\n",
    "target='Sales'\n",
    "used_cols=[c for c in train.columns.tolist() if c not in [target]]\n",
    "X=train[used_cols]\n",
    "y=train[target]\n",
    "\n",
    "\n",
    "X_train,X_test,y_train,y_test=train_test_split(X,y,test_size=0.2,random_state=42)\n",
    "\n",
    "#making a pipeline\n",
    "\n",
    "scaler=preprocessing.St\n",
    "\n",
    "#making a pipeline\n",
    "\n",
    "scaler=preprocessing.StandardScaler()\n",
    "num_transformer=make_pipeline(scaler)\n",
    "preprocessor=ColumnTransformer(transformers=[('num',num_transformer,used_cols)])\n",
    "\n",
    "#choosing model\n",
    "model_name=tree.DecisionTreeClassifier()\n",
    "#giving all values to pipeline\n",
    "pipe=make_pipeline(preprocessor,model_name)\n",
    "pipe.fit(X_train,y_train)\n",
    "#make predictions on training set\n",
    "y_pred=pipe.predict(X_train)\n",
    "#print results\n",
    "print(\"accuracy:\");\n",
    "print(\"=\"*len(\"Accuracy:\"))\n",
    "print(f\"TEST:\",{accuracy_score(y_test,y_train)})"
   ]
  },
  {
   "cell_type": "code",
   "execution_count": null,
   "id": "f650b242",
   "metadata": {},
   "outputs": [],
   "source": []
  }
 ],
 "metadata": {
  "kernelspec": {
   "display_name": "Python 3",
   "language": "python",
   "name": "python3"
  },
  "language_info": {
   "codemirror_mode": {
    "name": "ipython",
    "version": 3
   },
   "file_extension": ".py",
   "mimetype": "text/x-python",
   "name": "python",
   "nbconvert_exporter": "python",
   "pygments_lexer": "ipython3",
   "version": "3.7.4"
  }
 },
 "nbformat": 4,
 "nbformat_minor": 5
}
