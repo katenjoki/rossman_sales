{
 "cells": [
  {
   "cell_type": "code",
   "execution_count": 1,
   "id": "06e336d3",
   "metadata": {},
   "outputs": [],
   "source": [
    "import numpy as np\n",
    "import pandas as pd\n",
    "from fbprophet import Prophet"
   ]
  },
  {
   "cell_type": "code",
   "execution_count": 2,
   "id": "c0091fe6",
   "metadata": {},
   "outputs": [],
   "source": [
    "train=pd.read_csv(\"../data/train.csv\",low_memory=False)\n",
    "store=pd.read_csv(\"../data/store.csv\",low_memory=False)\n",
    "\n",
    "train_store=pd.merge(train,store,how='inner',on='Store')\n",
    "train_store = train_store[(train_store['Open']!=0)&(train_store['Sales']!=0)]\n",
    "train_store.fillna(0,inplace=True)"
   ]
  },
  {
   "cell_type": "code",
   "execution_count": 3,
   "id": "7ee47cdc",
   "metadata": {},
   "outputs": [
    {
     "data": {
      "text/html": [
       "<div>\n",
       "<style scoped>\n",
       "    .dataframe tbody tr th:only-of-type {\n",
       "        vertical-align: middle;\n",
       "    }\n",
       "\n",
       "    .dataframe tbody tr th {\n",
       "        vertical-align: top;\n",
       "    }\n",
       "\n",
       "    .dataframe thead th {\n",
       "        text-align: right;\n",
       "    }\n",
       "</style>\n",
       "<table border=\"1\" class=\"dataframe\">\n",
       "  <thead>\n",
       "    <tr style=\"text-align: right;\">\n",
       "      <th></th>\n",
       "      <th>Sales</th>\n",
       "    </tr>\n",
       "    <tr>\n",
       "      <th>Date</th>\n",
       "      <th></th>\n",
       "    </tr>\n",
       "  </thead>\n",
       "  <tbody>\n",
       "    <tr>\n",
       "      <th>2015-07-31</th>\n",
       "      <td>6064</td>\n",
       "    </tr>\n",
       "    <tr>\n",
       "      <th>2015-07-30</th>\n",
       "      <td>5567</td>\n",
       "    </tr>\n",
       "    <tr>\n",
       "      <th>2015-07-29</th>\n",
       "      <td>6402</td>\n",
       "    </tr>\n",
       "    <tr>\n",
       "      <th>2015-07-28</th>\n",
       "      <td>5671</td>\n",
       "    </tr>\n",
       "    <tr>\n",
       "      <th>2015-07-27</th>\n",
       "      <td>6627</td>\n",
       "    </tr>\n",
       "    <tr>\n",
       "      <th>...</th>\n",
       "      <td>...</td>\n",
       "    </tr>\n",
       "    <tr>\n",
       "      <th>2013-01-07</th>\n",
       "      <td>21237</td>\n",
       "    </tr>\n",
       "    <tr>\n",
       "      <th>2013-01-05</th>\n",
       "      <td>18856</td>\n",
       "    </tr>\n",
       "    <tr>\n",
       "      <th>2013-01-04</th>\n",
       "      <td>18371</td>\n",
       "    </tr>\n",
       "    <tr>\n",
       "      <th>2013-01-03</th>\n",
       "      <td>18463</td>\n",
       "    </tr>\n",
       "    <tr>\n",
       "      <th>2013-01-02</th>\n",
       "      <td>20642</td>\n",
       "    </tr>\n",
       "  </tbody>\n",
       "</table>\n",
       "<p>457042 rows × 1 columns</p>\n",
       "</div>"
      ],
      "text/plain": [
       "            Sales\n",
       "Date             \n",
       "2015-07-31   6064\n",
       "2015-07-30   5567\n",
       "2015-07-29   6402\n",
       "2015-07-28   5671\n",
       "2015-07-27   6627\n",
       "...           ...\n",
       "2013-01-07  21237\n",
       "2013-01-05  18856\n",
       "2013-01-04  18371\n",
       "2013-01-03  18463\n",
       "2013-01-02  20642\n",
       "\n",
       "[457042 rows x 1 columns]"
      ]
     },
     "execution_count": 3,
     "metadata": {},
     "output_type": "execute_result"
    }
   ],
   "source": [
    "#sales for store types\n",
    "\n",
    "s_type='a'\n",
    "train_store['Date']=pd.to_datetime(train_store['Date'])\n",
    "sales = train_store[train_store['StoreType']==s_type].loc[:,['Date','Sales']]\n",
    "sales.sort_values('Date')\n",
    "sales.set_index('Date')"
   ]
  },
  {
   "cell_type": "code",
   "execution_count": 18,
   "id": "83cbe6b3",
   "metadata": {},
   "outputs": [
    {
     "data": {
      "text/html": [
       "<div>\n",
       "<style scoped>\n",
       "    .dataframe tbody tr th:only-of-type {\n",
       "        vertical-align: middle;\n",
       "    }\n",
       "\n",
       "    .dataframe tbody tr th {\n",
       "        vertical-align: top;\n",
       "    }\n",
       "\n",
       "    .dataframe thead th {\n",
       "        text-align: right;\n",
       "    }\n",
       "</style>\n",
       "<table border=\"1\" class=\"dataframe\">\n",
       "  <thead>\n",
       "    <tr style=\"text-align: right;\">\n",
       "      <th></th>\n",
       "      <th>ds</th>\n",
       "      <th>y</th>\n",
       "    </tr>\n",
       "  </thead>\n",
       "  <tbody>\n",
       "    <tr>\n",
       "      <th>355949</th>\n",
       "      <td>2013-01-23</td>\n",
       "      <td>11323</td>\n",
       "    </tr>\n",
       "  </tbody>\n",
       "</table>\n",
       "</div>"
      ],
      "text/plain": [
       "               ds      y\n",
       "355949 2013-01-23  11323"
      ]
     },
     "execution_count": 18,
     "metadata": {},
     "output_type": "execute_result"
    }
   ],
   "source": [
    "sales.rename(columns={'Date':'ds','Sales':'y'},inplace=True)\n",
    "sales.sample()"
   ]
  },
  {
   "cell_type": "markdown",
   "id": "5b41b22b",
   "metadata": {},
   "source": [
    "**Model Holidays**\n",
    "* Create holidays dataframe"
   ]
  },
  {
   "cell_type": "code",
   "execution_count": 19,
   "id": "4deff67e",
   "metadata": {},
   "outputs": [
    {
     "data": {
      "text/html": [
       "<div>\n",
       "<style scoped>\n",
       "    .dataframe tbody tr th:only-of-type {\n",
       "        vertical-align: middle;\n",
       "    }\n",
       "\n",
       "    .dataframe tbody tr th {\n",
       "        vertical-align: top;\n",
       "    }\n",
       "\n",
       "    .dataframe thead th {\n",
       "        text-align: right;\n",
       "    }\n",
       "</style>\n",
       "<table border=\"1\" class=\"dataframe\">\n",
       "  <thead>\n",
       "    <tr style=\"text-align: right;\">\n",
       "      <th></th>\n",
       "      <th>ds</th>\n",
       "      <th>holiday</th>\n",
       "    </tr>\n",
       "  </thead>\n",
       "  <tbody>\n",
       "    <tr>\n",
       "      <th>77019</th>\n",
       "      <td>2014-07-21</td>\n",
       "      <td>state_holiday</td>\n",
       "    </tr>\n",
       "  </tbody>\n",
       "</table>\n",
       "</div>"
      ],
      "text/plain": [
       "              ds        holiday\n",
       "77019 2014-07-21  state_holiday"
      ]
     },
     "execution_count": 19,
     "metadata": {},
     "output_type": "execute_result"
    }
   ],
   "source": [
    "state_dates = train_store[(train_store.StateHoliday == 'a') | (train_store.StateHoliday == 'b') & (train_store.StateHoliday == 'c')].loc[:, 'Date'].values\n",
    "school_dates = train_store[train_store.SchoolHoliday == 1].loc[:, 'Date'].values\n",
    "\n",
    "state_holiday = pd.DataFrame({'ds': pd.to_datetime(state_dates),'holiday': 'state_holiday'})\n",
    "school_holiday = pd.DataFrame({'ds': pd.to_datetime(school_dates),'holiday': 'state_holiday'})\n",
    "\n",
    "df = pd.concat((state_holiday, school_holiday))\n",
    "df.sample()"
   ]
  },
  {
   "cell_type": "markdown",
   "id": "4c07338d",
   "metadata": {},
   "source": [
    "**Forecast 6 weeks into the future**"
   ]
  },
  {
   "cell_type": "code",
   "execution_count": null,
   "id": "bc2fdf2a",
   "metadata": {},
   "outputs": [
    {
     "name": "stderr",
     "output_type": "stream",
     "text": [
      "INFO:fbprophet:Disabling daily seasonality. Run prophet with daily_seasonality=True to override this.\n"
     ]
    }
   ],
   "source": [
    "model = Prophet(holidays = df)\n",
    "model.fit(sales)\n",
    "#6weeks = 42 days\n",
    "dates= model.make_future_dataframe(periods = 42)\n",
    "forecast = model.predict(dates)\n",
    "forecast.head(10)"
   ]
  },
  {
   "cell_type": "code",
   "execution_count": null,
   "id": "5449042a",
   "metadata": {},
   "outputs": [],
   "source": []
  }
 ],
 "metadata": {
  "kernelspec": {
   "display_name": "Python 3",
   "language": "python",
   "name": "python3"
  },
  "language_info": {
   "codemirror_mode": {
    "name": "ipython",
    "version": 3
   },
   "file_extension": ".py",
   "mimetype": "text/x-python",
   "name": "python",
   "nbconvert_exporter": "python",
   "pygments_lexer": "ipython3",
   "version": "3.7.4"
  }
 },
 "nbformat": 4,
 "nbformat_minor": 5
}
